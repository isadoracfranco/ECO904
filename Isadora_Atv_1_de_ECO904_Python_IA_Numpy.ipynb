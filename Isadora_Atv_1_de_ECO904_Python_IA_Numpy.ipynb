{
  "nbformat": 4,
  "nbformat_minor": 0,
  "metadata": {
    "colab": {
      "provenance": [],
      "collapsed_sections": [
        "PS3eztdzc6qv",
        "53uywnNfdjA_",
        "1VgcbY_Jfjs3",
        "LgnKIv0ggPeA",
        "4P80bv4plcsl",
        "MNX9vqOFZtGs",
        "13AT6xGtiuvn",
        "a3MIRHGumlQq",
        "9LgKmj-KqXYA",
        "Kn_hF5GBqbGR",
        "Vu-ZdnRHqpFg",
        "jqIppHsWsvIY",
        "UwHZIRf21Iqf",
        "ID0gbH5HV1Qc"
      ],
      "include_colab_link": true
    },
    "kernelspec": {
      "name": "python3",
      "display_name": "Python 3"
    },
    "language_info": {
      "name": "python"
    }
  },
  "cells": [
    {
      "cell_type": "markdown",
      "metadata": {
        "id": "view-in-github",
        "colab_type": "text"
      },
      "source": [
        "<a href=\"https://colab.research.google.com/github/isadoracfranco/ECO904/blob/main/Isadora_Atv_1_de_ECO904_Python_IA_Numpy.ipynb\" target=\"_parent\"><img src=\"https://colab.research.google.com/assets/colab-badge.svg\" alt=\"Open In Colab\"/></a>"
      ]
    },
    {
      "cell_type": "markdown",
      "source": [
        "# Numpy"
      ],
      "metadata": {
        "id": "PS3eztdzc6qv"
      }
    },
    {
      "cell_type": "markdown",
      "source": [
        "Numpy é a biblioteca principal para computação científica em Python.\n",
        "\n",
        "Ele fornece um objeto array multidimensional de alto desempenho e ferramentas para trabalhar com esses arrays."
      ],
      "metadata": {
        "id": "RCYsLLneddtn"
      }
    },
    {
      "cell_type": "code",
      "source": [
        "import numpy as np\n",
        "np.__version__"
      ],
      "metadata": {
        "id": "SODAt-kWdjwn",
        "colab": {
          "base_uri": "https://localhost:8080/",
          "height": 36
        },
        "outputId": "1ee38575-5d69-47e5-9dec-f2e4dffb9ea6"
      },
      "execution_count": null,
      "outputs": [
        {
          "output_type": "execute_result",
          "data": {
            "text/plain": [
              "'2.0.2'"
            ],
            "application/vnd.google.colaboratory.intrinsic+json": {
              "type": "string"
            }
          },
          "metadata": {},
          "execution_count": 1
        }
      ]
    },
    {
      "cell_type": "markdown",
      "source": [
        "## Matrizes"
      ],
      "metadata": {
        "id": "53uywnNfdjA_"
      }
    },
    {
      "cell_type": "markdown",
      "source": [
        "Um array numpy é uma grade de valores, todos do mesmo tipo, e é indexado por uma tupla de inteiros não negativos.\n",
        "\n",
        "O número de dimensões é a classificação da matriz, a forma de uma matriz é uma tupla de inteiros que fornece o tamanho da matriz ao longo de cada dimensão."
      ],
      "metadata": {
        "id": "oUGuRDP1d8Cf"
      }
    },
    {
      "cell_type": "code",
      "source": [
        "[1, 1.4, 'olÁ']"
      ],
      "metadata": {
        "id": "NdO568XYelu_",
        "outputId": "93d4709b-5262-4883-8782-72e24bc95fa1",
        "colab": {
          "base_uri": "https://localhost:8080/"
        }
      },
      "execution_count": null,
      "outputs": [
        {
          "output_type": "execute_result",
          "data": {
            "text/plain": [
              "[1, 1.4, 'olÁ']"
            ]
          },
          "metadata": {},
          "execution_count": 2
        }
      ]
    },
    {
      "cell_type": "code",
      "execution_count": null,
      "metadata": {
        "id": "-JA78DpmbtPY",
        "outputId": "0fb6e5b1-b30f-40f3-d31a-07c8eb530dd5",
        "colab": {
          "base_uri": "https://localhost:8080/"
        }
      },
      "outputs": [
        {
          "output_type": "execute_result",
          "data": {
            "text/plain": [
              "array([1, 2, 3])"
            ]
          },
          "metadata": {},
          "execution_count": 3
        }
      ],
      "source": [
        "a = np.array([1, 2, 3])\n",
        "a"
      ]
    },
    {
      "cell_type": "code",
      "source": [
        "type(a)"
      ],
      "metadata": {
        "id": "xrfXjU79ee32",
        "outputId": "cf8bd0a8-3e59-4dc3-c83d-b6699abc68be",
        "colab": {
          "base_uri": "https://localhost:8080/"
        }
      },
      "execution_count": null,
      "outputs": [
        {
          "output_type": "execute_result",
          "data": {
            "text/plain": [
              "numpy.ndarray"
            ]
          },
          "metadata": {},
          "execution_count": 4
        }
      ]
    },
    {
      "cell_type": "code",
      "source": [
        "a.dtype"
      ],
      "metadata": {
        "id": "aw2Y_kFcXnkL",
        "outputId": "fb2bf4fe-9fdd-420a-c5f7-908148618d77",
        "colab": {
          "base_uri": "https://localhost:8080/"
        }
      },
      "execution_count": null,
      "outputs": [
        {
          "output_type": "execute_result",
          "data": {
            "text/plain": [
              "dtype('int64')"
            ]
          },
          "metadata": {},
          "execution_count": 5
        }
      ]
    },
    {
      "cell_type": "code",
      "source": [
        "a.shape"
      ],
      "metadata": {
        "id": "MYkBOwEVfDS_",
        "outputId": "5f927aff-bc0e-47b7-894a-d27217ab3adb",
        "colab": {
          "base_uri": "https://localhost:8080/"
        }
      },
      "execution_count": null,
      "outputs": [
        {
          "output_type": "execute_result",
          "data": {
            "text/plain": [
              "(3,)"
            ]
          },
          "metadata": {},
          "execution_count": 6
        }
      ]
    },
    {
      "cell_type": "code",
      "source": [
        "a.ndim"
      ],
      "metadata": {
        "id": "GAIxvzq4xIH5",
        "outputId": "c0fc19ff-7276-4121-b41a-784908d5ad7c",
        "colab": {
          "base_uri": "https://localhost:8080/"
        }
      },
      "execution_count": null,
      "outputs": [
        {
          "output_type": "execute_result",
          "data": {
            "text/plain": [
              "1"
            ]
          },
          "metadata": {},
          "execution_count": 7
        }
      ]
    },
    {
      "cell_type": "code",
      "source": [
        "a.size"
      ],
      "metadata": {
        "id": "JErCwNPRXqmC",
        "outputId": "3d1345aa-3885-407d-906e-f9064dd9eaf7",
        "colab": {
          "base_uri": "https://localhost:8080/"
        }
      },
      "execution_count": null,
      "outputs": [
        {
          "output_type": "execute_result",
          "data": {
            "text/plain": [
              "3"
            ]
          },
          "metadata": {},
          "execution_count": 8
        }
      ]
    },
    {
      "cell_type": "code",
      "source": [
        "a.itemsize"
      ],
      "metadata": {
        "id": "jv8U20QnXtr6",
        "outputId": "51c122b0-4bfe-4b15-ae6e-3e376bbed358",
        "colab": {
          "base_uri": "https://localhost:8080/"
        }
      },
      "execution_count": null,
      "outputs": [
        {
          "output_type": "execute_result",
          "data": {
            "text/plain": [
              "8"
            ]
          },
          "metadata": {},
          "execution_count": 9
        }
      ]
    },
    {
      "cell_type": "code",
      "source": [
        "print(a[0], a[1], a[2])"
      ],
      "metadata": {
        "id": "gZ7eZCGxfHGP",
        "outputId": "e0896eb7-b80c-4696-cd97-cbf55e9510a5",
        "colab": {
          "base_uri": "https://localhost:8080/"
        }
      },
      "execution_count": null,
      "outputs": [
        {
          "output_type": "stream",
          "name": "stdout",
          "text": [
            "1 2 3\n"
          ]
        }
      ]
    },
    {
      "cell_type": "code",
      "source": [
        "a[0] = 5\n",
        "a"
      ],
      "metadata": {
        "id": "uLgFuKUofK5v",
        "outputId": "99110601-c04f-4264-f4a9-3c1725897c73",
        "colab": {
          "base_uri": "https://localhost:8080/"
        }
      },
      "execution_count": null,
      "outputs": [
        {
          "output_type": "execute_result",
          "data": {
            "text/plain": [
              "array([5, 2, 3])"
            ]
          },
          "metadata": {},
          "execution_count": 11
        }
      ]
    },
    {
      "cell_type": "code",
      "source": [
        "b = np.array([[1,2,3],[4,5,6]])\n",
        "b"
      ],
      "metadata": {
        "id": "oFgj8NOKfQff",
        "outputId": "454eace0-ad7e-46a4-b3f5-a1d828d5c83a",
        "colab": {
          "base_uri": "https://localhost:8080/"
        }
      },
      "execution_count": null,
      "outputs": [
        {
          "output_type": "execute_result",
          "data": {
            "text/plain": [
              "array([[1, 2, 3],\n",
              "       [4, 5, 6]])"
            ]
          },
          "metadata": {},
          "execution_count": 12
        }
      ]
    },
    {
      "cell_type": "code",
      "source": [
        "type(b)"
      ],
      "metadata": {
        "id": "1aEsqCtufXWf",
        "outputId": "7edd33be-b8f5-468e-feb1-7ca1ebb66b5b",
        "colab": {
          "base_uri": "https://localhost:8080/"
        }
      },
      "execution_count": null,
      "outputs": [
        {
          "output_type": "execute_result",
          "data": {
            "text/plain": [
              "numpy.ndarray"
            ]
          },
          "metadata": {},
          "execution_count": 13
        }
      ]
    },
    {
      "cell_type": "code",
      "source": [
        "b.shape"
      ],
      "metadata": {
        "id": "zq6EKbpXfT-I",
        "outputId": "58fb309f-3db1-4c13-96a3-b39471343dd9",
        "colab": {
          "base_uri": "https://localhost:8080/"
        }
      },
      "execution_count": null,
      "outputs": [
        {
          "output_type": "execute_result",
          "data": {
            "text/plain": [
              "(2, 3)"
            ]
          },
          "metadata": {},
          "execution_count": 14
        }
      ]
    },
    {
      "cell_type": "code",
      "source": [
        "b.ndim"
      ],
      "metadata": {
        "id": "QuDu1KsrxCE5",
        "outputId": "30f6f62c-f6b0-4710-e6e7-8652059a1077",
        "colab": {
          "base_uri": "https://localhost:8080/"
        }
      },
      "execution_count": null,
      "outputs": [
        {
          "output_type": "execute_result",
          "data": {
            "text/plain": [
              "2"
            ]
          },
          "metadata": {},
          "execution_count": 15
        }
      ]
    },
    {
      "cell_type": "code",
      "source": [
        "print(b[0, 0], b[0, 1], b[1, 0])"
      ],
      "metadata": {
        "id": "6tv73jZQfcFH",
        "outputId": "f871df6b-7ab7-4a74-dfdd-a546bcfece40",
        "colab": {
          "base_uri": "https://localhost:8080/"
        }
      },
      "execution_count": null,
      "outputs": [
        {
          "output_type": "stream",
          "name": "stdout",
          "text": [
            "1 2 4\n"
          ]
        }
      ]
    },
    {
      "cell_type": "markdown",
      "source": [
        "# Funções para Criar Vetores"
      ],
      "metadata": {
        "id": "1VgcbY_Jfjs3"
      }
    },
    {
      "cell_type": "code",
      "source": [
        "np.zeros((2,2))"
      ],
      "metadata": {
        "id": "4FRvgXiVfkyn",
        "outputId": "19d02564-80f1-4ec9-b53e-968136650d04",
        "colab": {
          "base_uri": "https://localhost:8080/"
        }
      },
      "execution_count": null,
      "outputs": [
        {
          "output_type": "execute_result",
          "data": {
            "text/plain": [
              "array([[0., 0.],\n",
              "       [0., 0.]])"
            ]
          },
          "metadata": {},
          "execution_count": 31
        }
      ]
    },
    {
      "cell_type": "code",
      "source": [
        "np.ones((1,2))"
      ],
      "metadata": {
        "id": "JePTgj3ifnQP",
        "outputId": "6601241f-28f3-4c93-d07c-69354febac18",
        "colab": {
          "base_uri": "https://localhost:8080/"
        }
      },
      "execution_count": null,
      "outputs": [
        {
          "output_type": "execute_result",
          "data": {
            "text/plain": [
              "array([[1., 1.]])"
            ]
          },
          "metadata": {},
          "execution_count": 18
        }
      ]
    },
    {
      "cell_type": "code",
      "source": [
        "np.full((2,2), 7)"
      ],
      "metadata": {
        "id": "xmMOPOnVfsH_",
        "outputId": "032c7363-0f9c-4137-d776-07cc0a8ab979",
        "colab": {
          "base_uri": "https://localhost:8080/"
        }
      },
      "execution_count": null,
      "outputs": [
        {
          "output_type": "execute_result",
          "data": {
            "text/plain": [
              "array([[7, 7],\n",
              "       [7, 7]])"
            ]
          },
          "metadata": {},
          "execution_count": 19
        }
      ]
    },
    {
      "cell_type": "code",
      "source": [
        "np.eye(2)"
      ],
      "metadata": {
        "id": "xfkC_vs_fvH3",
        "outputId": "3082020f-9a0f-4f47-cc08-5ba9b646150e",
        "colab": {
          "base_uri": "https://localhost:8080/"
        }
      },
      "execution_count": null,
      "outputs": [
        {
          "output_type": "execute_result",
          "data": {
            "text/plain": [
              "array([[1., 0.],\n",
              "       [0., 1.]])"
            ]
          },
          "metadata": {},
          "execution_count": 20
        }
      ]
    },
    {
      "cell_type": "code",
      "source": [
        "np.arange(10)"
      ],
      "metadata": {
        "id": "TwB-OSQDhWin",
        "outputId": "83e8c44a-8297-423e-a7de-3a7f58f75eeb",
        "colab": {
          "base_uri": "https://localhost:8080/"
        }
      },
      "execution_count": null,
      "outputs": [
        {
          "output_type": "execute_result",
          "data": {
            "text/plain": [
              "array([0, 1, 2, 3, 4, 5, 6, 7, 8, 9])"
            ]
          },
          "metadata": {},
          "execution_count": 21
        }
      ]
    },
    {
      "cell_type": "code",
      "source": [
        "np.arange(2, 10, dtype=float)"
      ],
      "metadata": {
        "id": "c0BuYgqshfrn",
        "outputId": "62c30b79-18f8-4245-ec38-cb85a531e4c2",
        "colab": {
          "base_uri": "https://localhost:8080/"
        }
      },
      "execution_count": null,
      "outputs": [
        {
          "output_type": "execute_result",
          "data": {
            "text/plain": [
              "array([2., 3., 4., 5., 6., 7., 8., 9.])"
            ]
          },
          "metadata": {},
          "execution_count": 22
        }
      ]
    },
    {
      "cell_type": "code",
      "source": [
        "np.arange(2, 3, 0.1)"
      ],
      "metadata": {
        "id": "JbnVA2PGhmlx",
        "outputId": "121cd928-6bab-4f2a-c1a2-3de638e73841",
        "colab": {
          "base_uri": "https://localhost:8080/"
        }
      },
      "execution_count": null,
      "outputs": [
        {
          "output_type": "execute_result",
          "data": {
            "text/plain": [
              "array([2. , 2.1, 2.2, 2.3, 2.4, 2.5, 2.6, 2.7, 2.8, 2.9])"
            ]
          },
          "metadata": {},
          "execution_count": 23
        }
      ]
    },
    {
      "cell_type": "code",
      "source": [
        "np.random.random((2,2))"
      ],
      "metadata": {
        "id": "7ujcCbNWfyOX",
        "outputId": "b1a74996-ef26-459d-c9ef-fae1314e90f9",
        "colab": {
          "base_uri": "https://localhost:8080/"
        }
      },
      "execution_count": null,
      "outputs": [
        {
          "output_type": "execute_result",
          "data": {
            "text/plain": [
              "array([[0.29459987, 0.59071791],\n",
              "       [0.4668145 , 0.08627642]])"
            ]
          },
          "metadata": {},
          "execution_count": 24
        }
      ]
    },
    {
      "cell_type": "code",
      "source": [
        "np.linspace(1., 4., 6)"
      ],
      "metadata": {
        "id": "e8ooB0XQhqBf",
        "outputId": "e79b7fb8-2d1c-4b19-ef46-a5952b806c27",
        "colab": {
          "base_uri": "https://localhost:8080/"
        }
      },
      "execution_count": null,
      "outputs": [
        {
          "output_type": "execute_result",
          "data": {
            "text/plain": [
              "array([1. , 1.6, 2.2, 2.8, 3.4, 4. ])"
            ]
          },
          "metadata": {},
          "execution_count": 25
        }
      ]
    },
    {
      "cell_type": "code",
      "source": [
        "np.diag([1, 2, 3])"
      ],
      "metadata": {
        "id": "Hl_ehd7-h1OP",
        "outputId": "593b3bb7-26ba-42e2-b16c-53e5c66f3f97",
        "colab": {
          "base_uri": "https://localhost:8080/"
        }
      },
      "execution_count": null,
      "outputs": [
        {
          "output_type": "execute_result",
          "data": {
            "text/plain": [
              "array([[1, 0, 0],\n",
              "       [0, 2, 0],\n",
              "       [0, 0, 3]])"
            ]
          },
          "metadata": {},
          "execution_count": 26
        }
      ]
    },
    {
      "cell_type": "code",
      "source": [
        "np.diag([1, 2, 3], 1)"
      ],
      "metadata": {
        "id": "TCXImUeUh9QI",
        "outputId": "6b2e5436-352f-4a47-848b-c4a8311c6137",
        "colab": {
          "base_uri": "https://localhost:8080/"
        }
      },
      "execution_count": null,
      "outputs": [
        {
          "output_type": "execute_result",
          "data": {
            "text/plain": [
              "array([[0, 1, 0, 0],\n",
              "       [0, 0, 2, 0],\n",
              "       [0, 0, 0, 3],\n",
              "       [0, 0, 0, 0]])"
            ]
          },
          "metadata": {},
          "execution_count": 27
        }
      ]
    },
    {
      "cell_type": "code",
      "source": [
        "a = np.array([[1, 2], [3, 4]])\n",
        "np.diag(a)"
      ],
      "metadata": {
        "id": "BHxWZOCmh_rX",
        "outputId": "904e0c33-3d2c-45b5-ee5a-d8c85b650d58",
        "colab": {
          "base_uri": "https://localhost:8080/"
        }
      },
      "execution_count": null,
      "outputs": [
        {
          "output_type": "execute_result",
          "data": {
            "text/plain": [
              "array([1, 4])"
            ]
          },
          "metadata": {},
          "execution_count": 28
        }
      ]
    },
    {
      "cell_type": "code",
      "source": [
        "np.indices((3,3))"
      ],
      "metadata": {
        "id": "s_Va1HHOiHD3",
        "outputId": "37bf2f15-b653-40ad-d6de-50b708308824",
        "colab": {
          "base_uri": "https://localhost:8080/"
        }
      },
      "execution_count": null,
      "outputs": [
        {
          "output_type": "execute_result",
          "data": {
            "text/plain": [
              "array([[[0, 0, 0],\n",
              "        [1, 1, 1],\n",
              "        [2, 2, 2]],\n",
              "\n",
              "       [[0, 1, 2],\n",
              "        [0, 1, 2],\n",
              "        [0, 1, 2]]])"
            ]
          },
          "metadata": {},
          "execution_count": 29
        }
      ]
    },
    {
      "cell_type": "code",
      "source": [
        "# matriz Vandermonde: útil na geração de modelos lineares de mínimos quadrados\n",
        "np.vander((1, 2, 3, 4), 4)"
      ],
      "metadata": {
        "id": "Wq4mZ4P9iViY",
        "outputId": "024f5abc-873e-4e3f-e9c8-b0641a6fa1ee",
        "colab": {
          "base_uri": "https://localhost:8080/"
        }
      },
      "execution_count": null,
      "outputs": [
        {
          "output_type": "execute_result",
          "data": {
            "text/plain": [
              "array([[ 1,  1,  1,  1],\n",
              "       [ 8,  4,  2,  1],\n",
              "       [27,  9,  3,  1],\n",
              "       [64, 16,  4,  1]])"
            ]
          },
          "metadata": {},
          "execution_count": 30
        }
      ]
    },
    {
      "cell_type": "markdown",
      "source": [
        "# Formatos"
      ],
      "metadata": {
        "id": "LgnKIv0ggPeA"
      }
    },
    {
      "cell_type": "markdown",
      "source": [
        "Arrays NumPy podem ser definidos usando sequências Python, como listas e tuplas.\n",
        "\n",
        "Listas e tuplas são definidas usando [...]e (...), respectivamente. Listas e tuplas podem definir a criação do ndarray:\n",
        "\n",
        "- uma lista de números criará uma matriz 1D,\n",
        "- uma lista de listas criará uma matriz 2D,\n",
        "- outras listas aninhadas criarão matrizes de dimensões mais altas.\n",
        "\n",
        "Em geral, qualquer objeto de matriz é chamado de ndarray no NumPy."
      ],
      "metadata": {
        "id": "36m55nS1gSlu"
      }
    },
    {
      "cell_type": "code",
      "source": [
        "a1D = np.array([1, 2, 3, 4])\n",
        "a1D"
      ],
      "metadata": {
        "id": "0Ls2P2YvgexO",
        "outputId": "4bf94497-4556-4525-af8d-5450797a4c74",
        "colab": {
          "base_uri": "https://localhost:8080/"
        }
      },
      "execution_count": null,
      "outputs": [
        {
          "output_type": "execute_result",
          "data": {
            "text/plain": [
              "array([1, 2, 3, 4])"
            ]
          },
          "metadata": {},
          "execution_count": 32
        }
      ]
    },
    {
      "cell_type": "code",
      "source": [
        "a2D = np.array([[1, 2], [3, 4]])\n",
        "a2D"
      ],
      "metadata": {
        "id": "fpqeLftdglpf",
        "outputId": "9fa8e8d0-fecf-473d-d482-903b08f86ff1",
        "colab": {
          "base_uri": "https://localhost:8080/"
        }
      },
      "execution_count": null,
      "outputs": [
        {
          "output_type": "execute_result",
          "data": {
            "text/plain": [
              "array([[1, 2],\n",
              "       [3, 4]])"
            ]
          },
          "metadata": {},
          "execution_count": 33
        }
      ]
    },
    {
      "cell_type": "code",
      "source": [
        "a3D = np.array([[[1, 2], [3, 4]], [[5, 6], [7, 8]]])\n",
        "a3D"
      ],
      "metadata": {
        "id": "lJmMy2r_glev",
        "outputId": "f166e265-a3c8-4a33-a888-b99b4a9df6d3",
        "colab": {
          "base_uri": "https://localhost:8080/"
        }
      },
      "execution_count": null,
      "outputs": [
        {
          "output_type": "execute_result",
          "data": {
            "text/plain": [
              "array([[[1, 2],\n",
              "        [3, 4]],\n",
              "\n",
              "       [[5, 6],\n",
              "        [7, 8]]])"
            ]
          },
          "metadata": {},
          "execution_count": 34
        }
      ]
    },
    {
      "cell_type": "markdown",
      "source": [
        "Ao usar numpy.arraypara definir um novo array, você deve considerar o dtype dos elementos no array, que pode ser especificado explicitamente.\n",
        "\n",
        "Esse recurso oferece mais controle sobre as estruturas de dados subjacentes e como os elementos são manipulados nas funções C/C++."
      ],
      "metadata": {
        "id": "Nn8o8hsigwOH"
      }
    },
    {
      "cell_type": "code",
      "source": [
        "np.array([[1,2],[3,4]], dtype=np.float64)"
      ],
      "metadata": {
        "id": "y41w1fqelcih",
        "outputId": "2bdab1ce-716f-4292-dd15-f77f0f275b50",
        "colab": {
          "base_uri": "https://localhost:8080/"
        }
      },
      "execution_count": null,
      "outputs": [
        {
          "output_type": "execute_result",
          "data": {
            "text/plain": [
              "array([[1., 2.],\n",
              "       [3., 4.]])"
            ]
          },
          "metadata": {},
          "execution_count": 35
        }
      ]
    },
    {
      "cell_type": "code",
      "source": [
        "np.array([[1.,2.],[3.,4.]], dtype=np.int64)"
      ],
      "metadata": {
        "id": "5kMOBxgQR1ZR",
        "outputId": "02f7b0eb-e273-4acb-bf17-18f5efb7e293",
        "colab": {
          "base_uri": "https://localhost:8080/"
        }
      },
      "execution_count": null,
      "outputs": [
        {
          "output_type": "execute_result",
          "data": {
            "text/plain": [
              "array([[1, 2],\n",
              "       [3, 4]])"
            ]
          },
          "metadata": {},
          "execution_count": 36
        }
      ]
    },
    {
      "cell_type": "code",
      "source": [
        "np.array([[1, 2], [3, 4]], dtype=np.complex64)"
      ],
      "metadata": {
        "id": "BmSXh9qGUbFr",
        "outputId": "7173853f-24d0-421e-e18b-ccdddfed649e",
        "colab": {
          "base_uri": "https://localhost:8080/"
        }
      },
      "execution_count": null,
      "outputs": [
        {
          "output_type": "execute_result",
          "data": {
            "text/plain": [
              "array([[1.+0.j, 2.+0.j],\n",
              "       [3.+0.j, 4.+0.j]], dtype=complex64)"
            ]
          },
          "metadata": {},
          "execution_count": 37
        }
      ]
    },
    {
      "cell_type": "markdown",
      "source": [
        "## Estouro de Variáveis"
      ],
      "metadata": {
        "id": "4P80bv4plcsl"
      }
    },
    {
      "cell_type": "code",
      "source": [
        "np.array([127, 128, 129], dtype=np.int8)"
      ],
      "metadata": {
        "id": "vx7ZkG4Ggv-v",
        "outputId": "da89a04f-ff8c-46f8-9eae-75b8833edfc1",
        "colab": {
          "base_uri": "https://localhost:8080/",
          "height": 141
        }
      },
      "execution_count": null,
      "outputs": [
        {
          "output_type": "error",
          "ename": "OverflowError",
          "evalue": "Python integer 128 out of bounds for int8",
          "traceback": [
            "\u001b[0;31m---------------------------------------------------------------------------\u001b[0m",
            "\u001b[0;31mOverflowError\u001b[0m                             Traceback (most recent call last)",
            "\u001b[0;32m<ipython-input-41-263af0d0b494>\u001b[0m in \u001b[0;36m<cell line: 0>\u001b[0;34m()\u001b[0m\n\u001b[0;32m----> 1\u001b[0;31m \u001b[0mnp\u001b[0m\u001b[0;34m.\u001b[0m\u001b[0marray\u001b[0m\u001b[0;34m(\u001b[0m\u001b[0;34m[\u001b[0m\u001b[0;36m127\u001b[0m\u001b[0;34m,\u001b[0m \u001b[0;36m128\u001b[0m\u001b[0;34m,\u001b[0m \u001b[0;36m129\u001b[0m\u001b[0;34m]\u001b[0m\u001b[0;34m,\u001b[0m \u001b[0mdtype\u001b[0m\u001b[0;34m=\u001b[0m\u001b[0mnp\u001b[0m\u001b[0;34m.\u001b[0m\u001b[0mint8\u001b[0m\u001b[0;34m)\u001b[0m\u001b[0;34m\u001b[0m\u001b[0;34m\u001b[0m\u001b[0m\n\u001b[0m",
            "\u001b[0;31mOverflowError\u001b[0m: Python integer 128 out of bounds for int8"
          ]
        }
      ]
    },
    {
      "cell_type": "markdown",
      "source": [
        "uint32 = inteiro 32 bits não sinalizado ( >= 0 )\n",
        "\n",
        "int32 = inteiro 32 bits sinalizado"
      ],
      "metadata": {
        "id": "qKFyiNQwm9hu"
      }
    },
    {
      "cell_type": "code",
      "source": [
        "a = np.array([2, 3, 4], dtype=np.uint32)\n",
        "b = np.array([5, 6, 7], dtype=np.uint32)\n",
        "a - b"
      ],
      "metadata": {
        "id": "6fIlw5OHhEBf",
        "colab": {
          "base_uri": "https://localhost:8080/"
        },
        "outputId": "cf050dd4-63cc-4452-d7a3-52efb2a188e3"
      },
      "execution_count": null,
      "outputs": [
        {
          "output_type": "execute_result",
          "data": {
            "text/plain": [
              "array([4294967293, 4294967293, 4294967293], dtype=uint32)"
            ]
          },
          "metadata": {},
          "execution_count": 39
        }
      ]
    },
    {
      "cell_type": "code",
      "source": [
        "a - b.astype(np.int32)"
      ],
      "metadata": {
        "id": "1g_SLB9YhQ33",
        "colab": {
          "base_uri": "https://localhost:8080/"
        },
        "outputId": "f32c22a8-15e6-4e3c-b121-e650e3998694"
      },
      "execution_count": null,
      "outputs": [
        {
          "output_type": "execute_result",
          "data": {
            "text/plain": [
              "array([-3, -3, -3])"
            ]
          },
          "metadata": {},
          "execution_count": 40
        }
      ]
    },
    {
      "cell_type": "markdown",
      "source": [
        "## Ponto flutuante IEEE 754"
      ],
      "metadata": {
        "id": "MNX9vqOFZtGs"
      }
    },
    {
      "cell_type": "markdown",
      "source": [
        "Valores especiais definidos em numpy: nan, inf"
      ],
      "metadata": {
        "id": "RXio46NnZv_r"
      }
    },
    {
      "cell_type": "code",
      "source": [
        "np.nan == np.nan"
      ],
      "metadata": {
        "id": "YEtakeBmZ1Qc",
        "outputId": "91899c7d-2874-44b9-aecb-7ad6bf12a4d4",
        "colab": {
          "base_uri": "https://localhost:8080/"
        }
      },
      "execution_count": null,
      "outputs": [
        {
          "output_type": "execute_result",
          "data": {
            "text/plain": [
              "False"
            ]
          },
          "metadata": {},
          "execution_count": 42
        }
      ]
    },
    {
      "cell_type": "code",
      "source": [
        "np.isnan(np.nan)"
      ],
      "metadata": {
        "id": "NrvrcKjMZ5Xa",
        "outputId": "88769ac6-b008-4fc0-c67e-7eb01d4f86c1",
        "colab": {
          "base_uri": "https://localhost:8080/"
        }
      },
      "execution_count": null,
      "outputs": [
        {
          "output_type": "execute_result",
          "data": {
            "text/plain": [
              "np.True_"
            ]
          },
          "metadata": {},
          "execution_count": 43
        }
      ]
    },
    {
      "cell_type": "code",
      "source": [
        "np.array([1., 0., np.nan, 3., np.inf])"
      ],
      "metadata": {
        "id": "R1PWP6uVZ9wc",
        "outputId": "3391cc54-c27b-4bbd-8ddd-6798065adae5",
        "colab": {
          "base_uri": "https://localhost:8080/"
        }
      },
      "execution_count": null,
      "outputs": [
        {
          "output_type": "execute_result",
          "data": {
            "text/plain": [
              "array([ 1.,  0., nan,  3., inf])"
            ]
          },
          "metadata": {},
          "execution_count": 44
        }
      ]
    },
    {
      "cell_type": "code",
      "source": [
        "d = np.array([1,1,1])/0"
      ],
      "metadata": {
        "id": "3EfAkPKTaZu9",
        "outputId": "7a1cff36-6655-4e81-f147-ff001d3277ad",
        "colab": {
          "base_uri": "https://localhost:8080/"
        }
      },
      "execution_count": null,
      "outputs": [
        {
          "output_type": "stream",
          "name": "stderr",
          "text": [
            "<ipython-input-45-81699a001d75>:1: RuntimeWarning: divide by zero encountered in divide\n",
            "  d = np.array([1,1,1])/0\n"
          ]
        }
      ]
    },
    {
      "cell_type": "code",
      "source": [
        "d"
      ],
      "metadata": {
        "id": "l1jgRdFEcgZ-",
        "outputId": "08a1146d-00b3-48f0-ccc7-8fc3186b6c38",
        "colab": {
          "base_uri": "https://localhost:8080/"
        }
      },
      "execution_count": null,
      "outputs": [
        {
          "output_type": "execute_result",
          "data": {
            "text/plain": [
              "array([inf, inf, inf])"
            ]
          },
          "metadata": {},
          "execution_count": 46
        }
      ]
    },
    {
      "cell_type": "markdown",
      "source": [
        "# Indexação"
      ],
      "metadata": {
        "id": "13AT6xGtiuvn"
      }
    },
    {
      "cell_type": "code",
      "source": [
        "a = np.array([[1,2,3,4], [5,6,7,8], [9,10,11,12]])\n",
        "a[:2, 1:3]"
      ],
      "metadata": {
        "id": "lNzCfqVdiwxA",
        "outputId": "894f324b-ea4a-4357-f893-75be7b4fb45b",
        "colab": {
          "base_uri": "https://localhost:8080/"
        }
      },
      "execution_count": null,
      "outputs": [
        {
          "output_type": "execute_result",
          "data": {
            "text/plain": [
              "array([[2, 3],\n",
              "       [6, 7]])"
            ]
          },
          "metadata": {},
          "execution_count": 61
        }
      ]
    },
    {
      "cell_type": "code",
      "source": [
        "a[:, 1]"
      ],
      "metadata": {
        "id": "jzXss_dvjblO",
        "outputId": "80a071ca-cb38-496e-adc4-bdd58da4eb0c",
        "colab": {
          "base_uri": "https://localhost:8080/"
        }
      },
      "execution_count": null,
      "outputs": [
        {
          "output_type": "execute_result",
          "data": {
            "text/plain": [
              "array([ 2,  6, 10])"
            ]
          },
          "metadata": {},
          "execution_count": 62
        }
      ]
    },
    {
      "cell_type": "code",
      "source": [
        "a[:, 1:2]"
      ],
      "metadata": {
        "id": "x9p4wuDnjjZ_",
        "outputId": "b871c72f-270f-400d-c8af-9e67758af970",
        "colab": {
          "base_uri": "https://localhost:8080/"
        }
      },
      "execution_count": null,
      "outputs": [
        {
          "output_type": "execute_result",
          "data": {
            "text/plain": [
              "array([[ 2],\n",
              "       [ 6],\n",
              "       [10]])"
            ]
          },
          "metadata": {},
          "execution_count": 63
        }
      ]
    },
    {
      "cell_type": "code",
      "source": [
        "b = np.array([0, 2, 1])\n",
        "a[np.arange(3), b]"
      ],
      "metadata": {
        "id": "7AvecJWrjlw_",
        "outputId": "90976b18-0a74-463f-83a0-f292f5fdd2e4",
        "colab": {
          "base_uri": "https://localhost:8080/"
        }
      },
      "execution_count": null,
      "outputs": [
        {
          "output_type": "execute_result",
          "data": {
            "text/plain": [
              "array([ 1,  7, 10])"
            ]
          },
          "metadata": {},
          "execution_count": 64
        }
      ]
    },
    {
      "cell_type": "code",
      "source": [
        "a[np.arange(3), b] += 10\n",
        "a"
      ],
      "metadata": {
        "id": "WdVLd8hik9Xn",
        "outputId": "bc9c2db4-0ed4-4bc4-8f7b-a2afecf832e3",
        "colab": {
          "base_uri": "https://localhost:8080/"
        }
      },
      "execution_count": null,
      "outputs": [
        {
          "output_type": "execute_result",
          "data": {
            "text/plain": [
              "array([[11,  2,  3,  4],\n",
              "       [ 5,  6, 17,  8],\n",
              "       [ 9, 20, 11, 12]])"
            ]
          },
          "metadata": {},
          "execution_count": 65
        }
      ]
    },
    {
      "cell_type": "code",
      "source": [
        "a > 10"
      ],
      "metadata": {
        "id": "GEYwe6z4lGdo",
        "outputId": "d41016cc-9500-4382-9aed-cb7e4628f28e",
        "colab": {
          "base_uri": "https://localhost:8080/"
        }
      },
      "execution_count": null,
      "outputs": [
        {
          "output_type": "execute_result",
          "data": {
            "text/plain": [
              "array([[ True, False, False, False],\n",
              "       [False, False,  True, False],\n",
              "       [False,  True,  True,  True]])"
            ]
          },
          "metadata": {},
          "execution_count": 66
        }
      ]
    },
    {
      "cell_type": "code",
      "source": [
        "a[ a > 10 ]"
      ],
      "metadata": {
        "id": "pHTdv2-2lIlP",
        "outputId": "a9678de3-4185-4b7a-c79a-3f52dd73cca0",
        "colab": {
          "base_uri": "https://localhost:8080/"
        }
      },
      "execution_count": null,
      "outputs": [
        {
          "output_type": "execute_result",
          "data": {
            "text/plain": [
              "array([11, 17, 20, 11, 12])"
            ]
          },
          "metadata": {},
          "execution_count": 67
        }
      ]
    },
    {
      "cell_type": "markdown",
      "source": [
        "# Operações"
      ],
      "metadata": {
        "id": "a3MIRHGumlQq"
      }
    },
    {
      "cell_type": "code",
      "source": [
        "x = np.array([[1,2],[3,4]], dtype=np.float64)\n",
        "x"
      ],
      "metadata": {
        "id": "qm4i_kZGpzYY",
        "outputId": "64191f86-4a15-4897-d404-cabcf7ab799e",
        "colab": {
          "base_uri": "https://localhost:8080/"
        }
      },
      "execution_count": null,
      "outputs": [
        {
          "output_type": "execute_result",
          "data": {
            "text/plain": [
              "array([[1., 2.],\n",
              "       [3., 4.]])"
            ]
          },
          "metadata": {},
          "execution_count": 68
        }
      ]
    },
    {
      "cell_type": "code",
      "source": [
        "y = np.array([[5,6],[7,8]], dtype=np.float64)\n",
        "y"
      ],
      "metadata": {
        "id": "DhNJhxHYmyxZ",
        "outputId": "afc702a0-8697-4dbd-a719-18647214fcf7",
        "colab": {
          "base_uri": "https://localhost:8080/"
        }
      },
      "execution_count": null,
      "outputs": [
        {
          "output_type": "execute_result",
          "data": {
            "text/plain": [
              "array([[5., 6.],\n",
              "       [7., 8.]])"
            ]
          },
          "metadata": {},
          "execution_count": 106
        }
      ]
    },
    {
      "cell_type": "markdown",
      "source": [
        "## Entre Vetores"
      ],
      "metadata": {
        "id": "9LgKmj-KqXYA"
      }
    },
    {
      "cell_type": "code",
      "source": [
        "x + y"
      ],
      "metadata": {
        "id": "z58JpxEvmyxZ",
        "outputId": "f16a25ed-ba76-4e04-8d18-9e5e558fb21b",
        "colab": {
          "base_uri": "https://localhost:8080/"
        }
      },
      "execution_count": null,
      "outputs": [
        {
          "output_type": "execute_result",
          "data": {
            "text/plain": [
              "array([[ 6.,  8.],\n",
              "       [10., 12.]])"
            ]
          },
          "metadata": {},
          "execution_count": 70
        }
      ]
    },
    {
      "cell_type": "code",
      "source": [
        "np.add(x, y)"
      ],
      "metadata": {
        "id": "2lBPZ6MQmyxa",
        "outputId": "12d7496e-0955-4c53-8f68-b9d91fe69a2f",
        "colab": {
          "base_uri": "https://localhost:8080/"
        }
      },
      "execution_count": null,
      "outputs": [
        {
          "output_type": "execute_result",
          "data": {
            "text/plain": [
              "array([[ 6.,  8.],\n",
              "       [10., 12.]])"
            ]
          },
          "metadata": {},
          "execution_count": 71
        }
      ]
    },
    {
      "cell_type": "code",
      "source": [
        "x - y # np.subtract(x, y)"
      ],
      "metadata": {
        "id": "h-vw-wzAmyxa",
        "outputId": "40d9c0a3-a265-430d-de5e-62eb1dab3c3c",
        "colab": {
          "base_uri": "https://localhost:8080/"
        }
      },
      "execution_count": null,
      "outputs": [
        {
          "output_type": "execute_result",
          "data": {
            "text/plain": [
              "array([[-4., -4.],\n",
              "       [-4., -4.]])"
            ]
          },
          "metadata": {},
          "execution_count": 72
        }
      ]
    },
    {
      "cell_type": "code",
      "source": [
        "x * y # np.multiply(x, y)"
      ],
      "metadata": {
        "id": "zl_vAJodmyxa",
        "outputId": "d6bcba1e-cf24-41d0-ffbe-27f7b36511c3",
        "colab": {
          "base_uri": "https://localhost:8080/"
        }
      },
      "execution_count": null,
      "outputs": [
        {
          "output_type": "execute_result",
          "data": {
            "text/plain": [
              "array([[ 5., 12.],\n",
              "       [21., 32.]])"
            ]
          },
          "metadata": {},
          "execution_count": 73
        }
      ]
    },
    {
      "cell_type": "code",
      "source": [
        "x / y # np.divide(x, y)"
      ],
      "metadata": {
        "id": "PtmPei5Rmyxa",
        "outputId": "331af06b-bae1-4132-a12f-d0e95622da9e",
        "colab": {
          "base_uri": "https://localhost:8080/"
        }
      },
      "execution_count": null,
      "outputs": [
        {
          "output_type": "execute_result",
          "data": {
            "text/plain": [
              "array([[0.2       , 0.33333333],\n",
              "       [0.42857143, 0.5       ]])"
            ]
          },
          "metadata": {},
          "execution_count": 74
        }
      ]
    },
    {
      "cell_type": "code",
      "source": [
        "np.sqrt(x)"
      ],
      "metadata": {
        "id": "iizKg_gXmyxa",
        "outputId": "9d19cd2a-126c-4ef4-ec66-686da1dac0c0",
        "colab": {
          "base_uri": "https://localhost:8080/"
        }
      },
      "execution_count": null,
      "outputs": [
        {
          "output_type": "execute_result",
          "data": {
            "text/plain": [
              "array([[1.        , 1.41421356],\n",
              "       [1.73205081, 2.        ]])"
            ]
          },
          "metadata": {},
          "execution_count": 75
        }
      ]
    },
    {
      "cell_type": "markdown",
      "source": [
        "## Cáculo Escalar"
      ],
      "metadata": {
        "id": "Kn_hF5GBqbGR"
      }
    },
    {
      "cell_type": "code",
      "source": [
        "x + 2"
      ],
      "metadata": {
        "id": "zzNhm4QSpsXA",
        "outputId": "9b0295ea-edf7-4922-995f-883cc5e47c1d",
        "colab": {
          "base_uri": "https://localhost:8080/"
        }
      },
      "execution_count": null,
      "outputs": [
        {
          "output_type": "execute_result",
          "data": {
            "text/plain": [
              "array([[3., 4.],\n",
              "       [5., 6.]])"
            ]
          },
          "metadata": {},
          "execution_count": 76
        }
      ]
    },
    {
      "cell_type": "code",
      "source": [
        "x * 3"
      ],
      "metadata": {
        "id": "N1WoabJjpvAP",
        "outputId": "d247a185-7614-4728-c538-1176be0c94d5",
        "colab": {
          "base_uri": "https://localhost:8080/"
        }
      },
      "execution_count": null,
      "outputs": [
        {
          "output_type": "execute_result",
          "data": {
            "text/plain": [
              "array([[ 3.,  6.],\n",
              "       [ 9., 12.]])"
            ]
          },
          "metadata": {},
          "execution_count": 77
        }
      ]
    },
    {
      "cell_type": "code",
      "source": [
        "x / 4"
      ],
      "metadata": {
        "id": "k9mttPM9qQXI",
        "outputId": "745529a8-c189-45fe-b3a6-d9b43342014d",
        "colab": {
          "base_uri": "https://localhost:8080/"
        }
      },
      "execution_count": null,
      "outputs": [
        {
          "output_type": "execute_result",
          "data": {
            "text/plain": [
              "array([[0.25, 0.5 ],\n",
              "       [0.75, 1.  ]])"
            ]
          },
          "metadata": {},
          "execution_count": 78
        }
      ]
    },
    {
      "cell_type": "markdown",
      "source": [
        "## Produto Interno"
      ],
      "metadata": {
        "id": "Vu-ZdnRHqpFg"
      }
    },
    {
      "cell_type": "markdown",
      "source": [
        "<img src=\"https://lhmet.github.io/adar-ebook/images/multilicacaoMatricial.png\">"
      ],
      "metadata": {
        "id": "bIB8Sx7Qr7SI"
      }
    },
    {
      "cell_type": "code",
      "source": [
        "A = np.array([[2,3],[1,0],[4,5]])\n",
        "B = np.array([[3,1],[2,4]])\n",
        "np.dot(A,B)"
      ],
      "metadata": {
        "id": "5pjNKMZ0sJhJ",
        "outputId": "1aff8936-119c-44d4-cdf5-10ce7683af21",
        "colab": {
          "base_uri": "https://localhost:8080/"
        }
      },
      "execution_count": null,
      "outputs": [
        {
          "output_type": "execute_result",
          "data": {
            "text/plain": [
              "array([[12, 14],\n",
              "       [ 3,  1],\n",
              "       [22, 24]])"
            ]
          },
          "metadata": {},
          "execution_count": 79
        }
      ]
    },
    {
      "cell_type": "markdown",
      "source": [
        "Outros exemplos:"
      ],
      "metadata": {
        "id": "RLqXcEsCsbjp"
      }
    },
    {
      "cell_type": "code",
      "source": [
        "x = np.array([[1,2],[3,4]])\n",
        "y = np.array([[5,6],[7,8]])\n",
        "\n",
        "v = np.array([9,10])\n",
        "w = np.array([11, 12])\n",
        "\n",
        "v.dot(w) # np.dot(v, w)"
      ],
      "metadata": {
        "id": "XjCBIJ-1rRlw",
        "outputId": "43543a85-33d5-41f4-9f4d-10e05d877004",
        "colab": {
          "base_uri": "https://localhost:8080/"
        }
      },
      "execution_count": null,
      "outputs": [
        {
          "output_type": "execute_result",
          "data": {
            "text/plain": [
              "np.int64(219)"
            ]
          },
          "metadata": {},
          "execution_count": 80
        }
      ]
    },
    {
      "cell_type": "code",
      "source": [
        "x.dot(v) # np.dot(x, v)"
      ],
      "metadata": {
        "id": "oGXQzQzKrb6Y",
        "outputId": "81d4b882-ae54-40ea-8ae3-0edaeb8a92ea",
        "colab": {
          "base_uri": "https://localhost:8080/"
        }
      },
      "execution_count": null,
      "outputs": [
        {
          "output_type": "execute_result",
          "data": {
            "text/plain": [
              "array([29, 67])"
            ]
          },
          "metadata": {},
          "execution_count": 81
        }
      ]
    },
    {
      "cell_type": "code",
      "source": [
        "x.dot(y)"
      ],
      "metadata": {
        "id": "kcf7s00lrh-w",
        "outputId": "bfabac8a-a98f-49ea-b0c8-0d4bffbcdee7",
        "colab": {
          "base_uri": "https://localhost:8080/"
        }
      },
      "execution_count": null,
      "outputs": [
        {
          "output_type": "execute_result",
          "data": {
            "text/plain": [
              "array([[19, 22],\n",
              "       [43, 50]])"
            ]
          },
          "metadata": {},
          "execution_count": 82
        }
      ]
    },
    {
      "cell_type": "markdown",
      "source": [
        "## Outras Operações"
      ],
      "metadata": {
        "id": "jqIppHsWsvIY"
      }
    },
    {
      "cell_type": "code",
      "source": [
        "a = np.array([[0.45053314, 0.17296777, 0.34376245, 0.5510652],\n",
        "              [0.54627315, 0.05093587, 0.40067661, 0.55645993],\n",
        "              [0.12697628, 0.82485143, 0.26590556, 0.56917101]])\n",
        "a"
      ],
      "metadata": {
        "id": "Z56TaD_CtTqy",
        "outputId": "3fb0c1be-f149-4fd9-9daa-6d65c2109e8b",
        "colab": {
          "base_uri": "https://localhost:8080/"
        }
      },
      "execution_count": null,
      "outputs": [
        {
          "output_type": "execute_result",
          "data": {
            "text/plain": [
              "array([[0.45053314, 0.17296777, 0.34376245, 0.5510652 ],\n",
              "       [0.54627315, 0.05093587, 0.40067661, 0.55645993],\n",
              "       [0.12697628, 0.82485143, 0.26590556, 0.56917101]])"
            ]
          },
          "metadata": {},
          "execution_count": 83
        }
      ]
    },
    {
      "cell_type": "code",
      "source": [
        "np.sum(a) # a.sum()"
      ],
      "metadata": {
        "id": "4pzUFc5hsusw",
        "outputId": "6e8bdcf2-9ce2-459a-ee78-4e541183ce7b",
        "colab": {
          "base_uri": "https://localhost:8080/"
        }
      },
      "execution_count": null,
      "outputs": [
        {
          "output_type": "execute_result",
          "data": {
            "text/plain": [
              "np.float64(4.8595784)"
            ]
          },
          "metadata": {},
          "execution_count": 84
        }
      ]
    },
    {
      "cell_type": "code",
      "source": [
        "a.max()"
      ],
      "metadata": {
        "id": "1GWXLOMTyyLp",
        "outputId": "d8887d43-3ec1-45ae-8033-1bbd99333687",
        "colab": {
          "base_uri": "https://localhost:8080/"
        }
      },
      "execution_count": null,
      "outputs": [
        {
          "output_type": "execute_result",
          "data": {
            "text/plain": [
              "np.float64(0.82485143)"
            ]
          },
          "metadata": {},
          "execution_count": 85
        }
      ]
    },
    {
      "cell_type": "code",
      "source": [
        "a.min()"
      ],
      "metadata": {
        "id": "DwmXXIJwy195",
        "outputId": "ab93f0b1-be4d-439a-e8bc-e0f5b5e2e81f",
        "colab": {
          "base_uri": "https://localhost:8080/"
        }
      },
      "execution_count": null,
      "outputs": [
        {
          "output_type": "execute_result",
          "data": {
            "text/plain": [
              "np.float64(0.05093587)"
            ]
          },
          "metadata": {},
          "execution_count": 86
        }
      ]
    },
    {
      "cell_type": "code",
      "source": [
        "a.min(axis=0)"
      ],
      "metadata": {
        "id": "2-sEE-TizMu4",
        "outputId": "c2f5190d-f2ad-466d-92cf-b5b98e19f593",
        "colab": {
          "base_uri": "https://localhost:8080/"
        }
      },
      "execution_count": null,
      "outputs": [
        {
          "output_type": "execute_result",
          "data": {
            "text/plain": [
              "array([0.12697628, 0.05093587, 0.26590556, 0.5510652 ])"
            ]
          },
          "metadata": {},
          "execution_count": 87
        }
      ]
    },
    {
      "cell_type": "code",
      "source": [
        "a.min(axis=1)"
      ],
      "metadata": {
        "id": "bl54YaPxzbzY",
        "outputId": "28c48063-73d6-4621-9b7f-091925c32ff0",
        "colab": {
          "base_uri": "https://localhost:8080/"
        }
      },
      "execution_count": null,
      "outputs": [
        {
          "output_type": "execute_result",
          "data": {
            "text/plain": [
              "array([0.17296777, 0.05093587, 0.12697628])"
            ]
          },
          "metadata": {},
          "execution_count": 88
        }
      ]
    },
    {
      "cell_type": "code",
      "source": [
        "a.T"
      ],
      "metadata": {
        "id": "S9jq9i2MtD3p",
        "outputId": "f5e8692e-a9f5-4ed7-9e2c-40c2ef885214",
        "colab": {
          "base_uri": "https://localhost:8080/"
        }
      },
      "execution_count": null,
      "outputs": [
        {
          "output_type": "execute_result",
          "data": {
            "text/plain": [
              "array([[0.45053314, 0.54627315, 0.12697628],\n",
              "       [0.17296777, 0.05093587, 0.82485143],\n",
              "       [0.34376245, 0.40067661, 0.26590556],\n",
              "       [0.5510652 , 0.55645993, 0.56917101]])"
            ]
          },
          "metadata": {},
          "execution_count": 89
        }
      ]
    },
    {
      "cell_type": "code",
      "source": [
        "np.empty_like(a)"
      ],
      "metadata": {
        "id": "TXKk8G_4tWuo",
        "outputId": "dacb5467-1f28-4e2d-d002-78a417a05250",
        "colab": {
          "base_uri": "https://localhost:8080/"
        }
      },
      "execution_count": null,
      "outputs": [
        {
          "output_type": "execute_result",
          "data": {
            "text/plain": [
              "array([[0.45053314, 0.54627315, 0.12697628, 0.17296777],\n",
              "       [0.05093587, 0.82485143, 0.34376245, 0.40067661],\n",
              "       [0.26590556, 0.5510652 , 0.55645993, 0.56917101]])"
            ]
          },
          "metadata": {},
          "execution_count": 90
        }
      ]
    },
    {
      "cell_type": "code",
      "source": [
        "np.tile(a, (4, 1))"
      ],
      "metadata": {
        "id": "29KcUHxkt5FY",
        "outputId": "3acaa756-ee23-43c4-fd51-649779b013cf",
        "colab": {
          "base_uri": "https://localhost:8080/"
        }
      },
      "execution_count": null,
      "outputs": [
        {
          "output_type": "execute_result",
          "data": {
            "text/plain": [
              "array([[0.45053314, 0.17296777, 0.34376245, 0.5510652 ],\n",
              "       [0.54627315, 0.05093587, 0.40067661, 0.55645993],\n",
              "       [0.12697628, 0.82485143, 0.26590556, 0.56917101],\n",
              "       [0.45053314, 0.17296777, 0.34376245, 0.5510652 ],\n",
              "       [0.54627315, 0.05093587, 0.40067661, 0.55645993],\n",
              "       [0.12697628, 0.82485143, 0.26590556, 0.56917101],\n",
              "       [0.45053314, 0.17296777, 0.34376245, 0.5510652 ],\n",
              "       [0.54627315, 0.05093587, 0.40067661, 0.55645993],\n",
              "       [0.12697628, 0.82485143, 0.26590556, 0.56917101],\n",
              "       [0.45053314, 0.17296777, 0.34376245, 0.5510652 ],\n",
              "       [0.54627315, 0.05093587, 0.40067661, 0.55645993],\n",
              "       [0.12697628, 0.82485143, 0.26590556, 0.56917101]])"
            ]
          },
          "metadata": {},
          "execution_count": 91
        }
      ]
    },
    {
      "cell_type": "code",
      "source": [
        "np.reshape(a, (12, 1))"
      ],
      "metadata": {
        "id": "R66da2nluDgA",
        "outputId": "10cb20b7-dd3f-464a-d85b-640afc41e0c1",
        "colab": {
          "base_uri": "https://localhost:8080/"
        }
      },
      "execution_count": null,
      "outputs": [
        {
          "output_type": "execute_result",
          "data": {
            "text/plain": [
              "array([[0.45053314],\n",
              "       [0.17296777],\n",
              "       [0.34376245],\n",
              "       [0.5510652 ],\n",
              "       [0.54627315],\n",
              "       [0.05093587],\n",
              "       [0.40067661],\n",
              "       [0.55645993],\n",
              "       [0.12697628],\n",
              "       [0.82485143],\n",
              "       [0.26590556],\n",
              "       [0.56917101]])"
            ]
          },
          "metadata": {},
          "execution_count": 92
        }
      ]
    },
    {
      "cell_type": "code",
      "source": [
        "a = np.array([1, 2, 3, 4])\n",
        "b = np.array([5, 6, 7, 8])\n",
        "\n",
        "np.concatenate((a, b))"
      ],
      "metadata": {
        "id": "v5OjWsh8vkyY",
        "outputId": "14ab4599-1dc4-4e0f-dbce-0e2f2d9d841f",
        "colab": {
          "base_uri": "https://localhost:8080/"
        }
      },
      "execution_count": null,
      "outputs": [
        {
          "output_type": "execute_result",
          "data": {
            "text/plain": [
              "array([1, 2, 3, 4, 5, 6, 7, 8])"
            ]
          },
          "metadata": {},
          "execution_count": 93
        }
      ]
    },
    {
      "cell_type": "code",
      "source": [
        "x = np.array([[1, 2], [3, 4]])\n",
        "y = np.array([[5, 6]])\n",
        "\n",
        "np.concatenate((x, y))"
      ],
      "metadata": {
        "id": "juQW9zvNv2E5",
        "outputId": "02c6daa3-abc3-4639-f5c1-8dd8698e8016",
        "colab": {
          "base_uri": "https://localhost:8080/"
        }
      },
      "execution_count": null,
      "outputs": [
        {
          "output_type": "execute_result",
          "data": {
            "text/plain": [
              "array([[1, 2],\n",
              "       [3, 4],\n",
              "       [5, 6]])"
            ]
          },
          "metadata": {},
          "execution_count": 94
        }
      ]
    },
    {
      "cell_type": "code",
      "source": [
        "a = np.array([1, 2, 3, 4, 5, 6])\n",
        "\n",
        "a[np.newaxis, :]"
      ],
      "metadata": {
        "id": "7Jz9b2W_w5_f",
        "outputId": "27ba690d-2662-4d6c-b433-cca7d0c7492d",
        "colab": {
          "base_uri": "https://localhost:8080/"
        }
      },
      "execution_count": null,
      "outputs": [
        {
          "output_type": "execute_result",
          "data": {
            "text/plain": [
              "array([[1, 2, 3, 4, 5, 6]])"
            ]
          },
          "metadata": {},
          "execution_count": 95
        }
      ]
    },
    {
      "cell_type": "code",
      "source": [
        "a[:, np.newaxis]"
      ],
      "metadata": {
        "id": "4cggbUwlyeJz",
        "outputId": "4367aca7-2d38-4691-bc2e-1a0f101df887",
        "colab": {
          "base_uri": "https://localhost:8080/"
        }
      },
      "execution_count": null,
      "outputs": [
        {
          "output_type": "execute_result",
          "data": {
            "text/plain": [
              "array([[1],\n",
              "       [2],\n",
              "       [3],\n",
              "       [4],\n",
              "       [5],\n",
              "       [6]])"
            ]
          },
          "metadata": {},
          "execution_count": 96
        }
      ]
    },
    {
      "cell_type": "code",
      "source": [
        "np.unique([1,1,2,2,3,3,4,4,5,5])"
      ],
      "metadata": {
        "id": "ez1mjgMKz9UR",
        "outputId": "b1cccd38-0b9b-42b1-8745-b7fb35a84bba",
        "colab": {
          "base_uri": "https://localhost:8080/"
        }
      },
      "execution_count": null,
      "outputs": [
        {
          "output_type": "execute_result",
          "data": {
            "text/plain": [
              "array([1, 2, 3, 4, 5])"
            ]
          },
          "metadata": {},
          "execution_count": 97
        }
      ]
    },
    {
      "cell_type": "code",
      "source": [
        "np.flip([1,1,2,2,3,3,4,4,5,5])"
      ],
      "metadata": {
        "id": "4FuIYNzM0QsJ",
        "outputId": "a915c8aa-b23c-4b22-b3e7-f646fdec585e",
        "colab": {
          "base_uri": "https://localhost:8080/"
        }
      },
      "execution_count": null,
      "outputs": [
        {
          "output_type": "execute_result",
          "data": {
            "text/plain": [
              "array([5, 5, 4, 4, 3, 3, 2, 2, 1, 1])"
            ]
          },
          "metadata": {},
          "execution_count": 98
        }
      ]
    },
    {
      "cell_type": "code",
      "source": [
        "a = np.array([[0.45053314, 0.17296777, 0.34376245, 0.5510652],\n",
        "              [0.54627315, 0.05093587, 0.40067661, 0.55645993],\n",
        "              [0.12697628, 0.82485143, 0.26590556, 0.56917101]])\n",
        "a.flatten()"
      ],
      "metadata": {
        "id": "HmwSNtZK0SlI",
        "outputId": "303b439a-c8c2-49a8-a3ea-e749a5110352",
        "colab": {
          "base_uri": "https://localhost:8080/"
        }
      },
      "execution_count": null,
      "outputs": [
        {
          "output_type": "execute_result",
          "data": {
            "text/plain": [
              "array([0.45053314, 0.17296777, 0.34376245, 0.5510652 , 0.54627315,\n",
              "       0.05093587, 0.40067661, 0.55645993, 0.12697628, 0.82485143,\n",
              "       0.26590556, 0.56917101])"
            ]
          },
          "metadata": {},
          "execution_count": 99
        }
      ]
    },
    {
      "cell_type": "code",
      "source": [
        "b = a.ravel()\n",
        "b[4] = 0.9999\n",
        "a"
      ],
      "metadata": {
        "id": "7iQe5uxl0kgA",
        "outputId": "f9a6f9a4-a8d9-4dfa-cd6e-48ca6ab1326e",
        "colab": {
          "base_uri": "https://localhost:8080/"
        }
      },
      "execution_count": null,
      "outputs": [
        {
          "output_type": "execute_result",
          "data": {
            "text/plain": [
              "array([[0.45053314, 0.17296777, 0.34376245, 0.5510652 ],\n",
              "       [0.9999    , 0.05093587, 0.40067661, 0.55645993],\n",
              "       [0.12697628, 0.82485143, 0.26590556, 0.56917101]])"
            ]
          },
          "metadata": {},
          "execution_count": 100
        }
      ]
    },
    {
      "cell_type": "code",
      "source": [
        "d = np.array([1., 0., np.nan, 3.])"
      ],
      "metadata": {
        "id": "rDxbPdR2YmRc"
      },
      "execution_count": null,
      "outputs": []
    },
    {
      "cell_type": "markdown",
      "source": [
        "## Fórmulas Matemáticas"
      ],
      "metadata": {
        "id": "OUKj6gWX07zq"
      }
    },
    {
      "cell_type": "markdown",
      "source": [
        "<img src=\"https://numpy.org/doc/stable/_images/np_MSE_formula.png\">"
      ],
      "metadata": {
        "id": "as2rnSCv0-8B"
      }
    },
    {
      "cell_type": "markdown",
      "source": [
        "<img src=\"https://numpy.org/doc/stable/_images/np_MSE_implementation.png\">"
      ],
      "metadata": {
        "id": "y_px5gR11Bex"
      }
    },
    {
      "cell_type": "markdown",
      "source": [
        "### Atividade"
      ],
      "metadata": {
        "id": "7Z9tkFliWBWD"
      }
    },
    {
      "cell_type": "markdown",
      "source": [
        "Calcule o MSE (Erro médio quadrático) dos vetores gerados abaixo:"
      ],
      "metadata": {
        "id": "xSW_sA1gWDrU"
      }
    },
    {
      "cell_type": "code",
      "source": [
        "np.random.seed(int(input('Forneça sua matrícula: ')))\n",
        "\n",
        "real = np.random.random(100)\n",
        "previsto = np.random.random(100)"
      ],
      "metadata": {
        "id": "yd3kMZEXWxVl",
        "colab": {
          "base_uri": "https://localhost:8080/"
        },
        "outputId": "e8e687ed-5ddd-41d7-be2c-18ed427d55cb"
      },
      "execution_count": null,
      "outputs": [
        {
          "name": "stdout",
          "output_type": "stream",
          "text": [
            "Forneça sua matrícula: 2023004855\n"
          ]
        }
      ]
    },
    {
      "cell_type": "code",
      "source": [
        "# implemente o erro aqui\n",
        "erro = np.mean(np.square(previsto - real))\n",
        "print(\"MSE:\", erro)"
      ],
      "metadata": {
        "id": "u_z9qpmUXi9X",
        "colab": {
          "base_uri": "https://localhost:8080/"
        },
        "outputId": "35dc07ae-d1be-4dcc-dcae-462be37ee271"
      },
      "execution_count": null,
      "outputs": [
        {
          "output_type": "stream",
          "name": "stdout",
          "text": [
            "MSE: 0.17470358975410516\n"
          ]
        }
      ]
    },
    {
      "cell_type": "markdown",
      "source": [
        "Identifique qual cálculo é mais rápido dotList vs dotNumpy.\n",
        "\n",
        "Rode 1000 vezes cada um para comparar o tempo com o comando \"%%time\"."
      ],
      "metadata": {
        "id": "VbCatApTX5nI"
      }
    },
    {
      "cell_type": "code",
      "source": [
        "a = np.random.randn(1000)\n",
        "b = np.random.randn(1000)\n",
        "\n",
        "A = list(a)\n",
        "B = list(b)\n",
        "\n",
        "def dotList():\n",
        "    dot = 0\n",
        "    for i in range(len(A)):\n",
        "        dot += A[i]*B[i]\n",
        "    return dot\n",
        "\n",
        "def dotNumpy():\n",
        "    return np.dot(a,b)"
      ],
      "metadata": {
        "id": "rXmEPmruYLvc"
      },
      "execution_count": null,
      "outputs": []
    },
    {
      "cell_type": "code",
      "source": [
        "%%time\n",
        "# implemente aqui\n",
        "for _ in range(1000):\n",
        "    dotList()\n"
      ],
      "metadata": {
        "id": "VuIaJ24yYE3z",
        "colab": {
          "base_uri": "https://localhost:8080/"
        },
        "outputId": "2f88bc6d-73a2-48f3-de7c-d46150ba6bc0"
      },
      "execution_count": null,
      "outputs": [
        {
          "output_type": "stream",
          "name": "stdout",
          "text": [
            "CPU times: user 165 ms, sys: 0 ns, total: 165 ms\n",
            "Wall time: 173 ms\n"
          ]
        }
      ]
    },
    {
      "cell_type": "code",
      "source": [
        "%%time\n",
        "for _ in range(1000):\n",
        "    dotNumpy()"
      ],
      "metadata": {
        "colab": {
          "base_uri": "https://localhost:8080/"
        },
        "id": "-b_O1M_STG_K",
        "outputId": "40ec3486-ad7d-4149-a01f-0062536d37d8"
      },
      "execution_count": null,
      "outputs": [
        {
          "output_type": "stream",
          "name": "stdout",
          "text": [
            "CPU times: user 4 ms, sys: 0 ns, total: 4 ms\n",
            "Wall time: 3.76 ms\n"
          ]
        }
      ]
    },
    {
      "cell_type": "markdown",
      "source": [
        "# Manipulação de Arquivos"
      ],
      "metadata": {
        "id": "UwHZIRf21Iqf"
      }
    },
    {
      "cell_type": "code",
      "source": [
        "a = np.array([1, 2, 3, 4, 5, 6])\n",
        "np.save('arquivo', a)\n",
        "\n",
        "np.load('arquivo.npy')"
      ],
      "metadata": {
        "id": "Vqi0UNsl2Bix",
        "colab": {
          "base_uri": "https://localhost:8080/"
        },
        "outputId": "48e2c001-24b2-41cc-c26a-dded1fd3afbe"
      },
      "execution_count": null,
      "outputs": [
        {
          "output_type": "execute_result",
          "data": {
            "text/plain": [
              "array([1, 2, 3, 4, 5, 6])"
            ]
          },
          "metadata": {},
          "execution_count": 116
        }
      ]
    },
    {
      "cell_type": "code",
      "source": [
        "b = np.array([1, 2, 3, 4, 5, 6, 7, 8])\n",
        "np.savetxt('arquivo.txt', b)\n",
        "\n",
        "np.loadtxt('arquivo.txt')"
      ],
      "metadata": {
        "id": "lxDoCzsj3UAh",
        "colab": {
          "base_uri": "https://localhost:8080/"
        },
        "outputId": "6327b628-8ae2-44f3-d707-5af47689a532"
      },
      "execution_count": null,
      "outputs": [
        {
          "output_type": "execute_result",
          "data": {
            "text/plain": [
              "array([1., 2., 3., 4., 5., 6., 7., 8.])"
            ]
          },
          "metadata": {},
          "execution_count": 117
        }
      ]
    },
    {
      "cell_type": "code",
      "source": [
        "c = np.array([[-2.58289208,  0.43014843, -1.24082018, 1.59572603],\n",
        "              [ 0.99027828, 1.17150989,  0.94125714, -0.14692469],\n",
        "              [ 0.76989341,  0.81299683, -0.95068423, 0.11769564],\n",
        "              [ 0.20484034,  0.34784527,  1.96979195, 0.51992837]])\n",
        "np.savetxt('colunas.txt', c)"
      ],
      "metadata": {
        "id": "CeBqzTcn3kdI"
      },
      "execution_count": null,
      "outputs": []
    },
    {
      "cell_type": "code",
      "source": [
        "%%writefile sistemas.txt\n",
        "0 1 2 3 4 5 6 7 8 9\n",
        "10 11 12 13 14 15 16 17 18 19\n",
        "20 21 22 23 24 25 26 27 28 29"
      ],
      "metadata": {
        "id": "2Y8GMD3BSD-L",
        "colab": {
          "base_uri": "https://localhost:8080/"
        },
        "outputId": "634c3b39-c955-4b51-a72a-bfbc6a03b42a"
      },
      "execution_count": null,
      "outputs": [
        {
          "output_type": "stream",
          "name": "stdout",
          "text": [
            "Writing sistemas.txt\n"
          ]
        }
      ]
    },
    {
      "cell_type": "code",
      "source": [
        "np.loadtxt('sistemas.txt').astype(int)"
      ],
      "metadata": {
        "id": "vFi5mYhUSVKD",
        "colab": {
          "base_uri": "https://localhost:8080/"
        },
        "outputId": "08adb86b-0f12-4205-eb9b-10f226c05bc1"
      },
      "execution_count": null,
      "outputs": [
        {
          "output_type": "execute_result",
          "data": {
            "text/plain": [
              "array([[ 0,  1,  2,  3,  4,  5,  6,  7,  8,  9],\n",
              "       [10, 11, 12, 13, 14, 15, 16, 17, 18, 19],\n",
              "       [20, 21, 22, 23, 24, 25, 26, 27, 28, 29]])"
            ]
          },
          "metadata": {},
          "execution_count": 120
        }
      ]
    },
    {
      "cell_type": "markdown",
      "source": [
        "# Sistemas Lineares"
      ],
      "metadata": {
        "id": "ID0gbH5HV1Qc"
      }
    },
    {
      "cell_type": "markdown",
      "source": [
        "https://numpy.org/doc/stable/reference/routines.linalg.html"
      ],
      "metadata": {
        "id": "3fgpvwvcgY0N"
      }
    },
    {
      "cell_type": "code",
      "source": [
        "a = np.array([[1, 2], [3, 5]])\n",
        "b = np.array([1, 2])\n",
        "\n",
        "x = np.linalg.solve(a, b)\n",
        "x"
      ],
      "metadata": {
        "id": "6AhA240pV_tD",
        "colab": {
          "base_uri": "https://localhost:8080/"
        },
        "outputId": "a84dd883-b943-4498-94b0-fa4887e22c8b"
      },
      "execution_count": null,
      "outputs": [
        {
          "output_type": "execute_result",
          "data": {
            "text/plain": [
              "array([-1.,  1.])"
            ]
          },
          "metadata": {},
          "execution_count": 121
        }
      ]
    },
    {
      "cell_type": "markdown",
      "source": [
        "Confirmando:"
      ],
      "metadata": {
        "id": "mqkJeP5-fYcV"
      }
    },
    {
      "cell_type": "code",
      "source": [
        "np.dot(a, x)"
      ],
      "metadata": {
        "id": "Z93XHRp8flDk",
        "colab": {
          "base_uri": "https://localhost:8080/"
        },
        "outputId": "98e34b66-4936-4a57-d85a-b22b774d07f4"
      },
      "execution_count": null,
      "outputs": [
        {
          "output_type": "execute_result",
          "data": {
            "text/plain": [
              "array([1., 2.])"
            ]
          },
          "metadata": {},
          "execution_count": 122
        }
      ]
    },
    {
      "cell_type": "code",
      "source": [
        "np.allclose(np.dot(a, x), b)"
      ],
      "metadata": {
        "id": "gKZE2A8xeQcX",
        "colab": {
          "base_uri": "https://localhost:8080/"
        },
        "outputId": "fecbb39b-4ad0-4d7a-8e72-3a2772fe6142"
      },
      "execution_count": null,
      "outputs": [
        {
          "output_type": "execute_result",
          "data": {
            "text/plain": [
              "True"
            ]
          },
          "metadata": {},
          "execution_count": 123
        }
      ]
    },
    {
      "cell_type": "markdown",
      "source": [
        "## Autovalores e Autovetores"
      ],
      "metadata": {
        "id": "Db3rRtzjZTxa"
      }
    },
    {
      "cell_type": "code",
      "source": [
        "a = np.array([[1,2], [3,4]])\n",
        "autovalores, autovetores = np.linalg.eig(a)\n",
        "print('autovalores:',autovalores,'\\n')\n",
        "print('autovetores:',autovetores)"
      ],
      "metadata": {
        "id": "WRmH4r2VZaqu",
        "colab": {
          "base_uri": "https://localhost:8080/"
        },
        "outputId": "93726ef9-1ee6-4fd9-ab4c-a89fc3cfa2cd"
      },
      "execution_count": null,
      "outputs": [
        {
          "output_type": "stream",
          "name": "stdout",
          "text": [
            "autovalores: [-0.37228132  5.37228132] \n",
            "\n",
            "autovetores: [[-0.82456484 -0.41597356]\n",
            " [ 0.56576746 -0.90937671]]\n"
          ]
        }
      ]
    },
    {
      "cell_type": "markdown",
      "source": [
        "## Atividade"
      ],
      "metadata": {
        "id": "9pacrNXbftTm"
      }
    },
    {
      "cell_type": "markdown",
      "source": [
        "Implemente a solução do sistema abaixo:"
      ],
      "metadata": {
        "id": "vyq3Us8yfveM"
      }
    },
    {
      "cell_type": "markdown",
      "source": [
        "<img src=\"https://escolaeducacao.com.br/wp-content/uploads/2020/04/sistema-exemplo1-300x151.jpg\">"
      ],
      "metadata": {
        "id": "encAlxc6faOE"
      }
    },
    {
      "cell_type": "code",
      "source": [
        "import numpy as np\n",
        "\n",
        "# matriz dos coeficientes (lado esquerdo das equações)\n",
        "A = np.array([\n",
        "    [2, 1, -2],\n",
        "    [3, 2, 2],\n",
        "    [5, 4, 3]\n",
        "])\n",
        "\n",
        "# vetor dos resultados (lado direito das equações)\n",
        "b = np.array([10, 1, 4])\n",
        "\n",
        "# resolvendo o sistema Ax = b\n",
        "solucao = np.linalg.solve(A, b)\n",
        "\n",
        "print(\"Solução (x, y, z):\", solucao)"
      ],
      "metadata": {
        "id": "x8iykUEufcke",
        "colab": {
          "base_uri": "https://localhost:8080/"
        },
        "outputId": "160b0a3a-94dd-48eb-fd36-3e7b1282ab87"
      },
      "execution_count": null,
      "outputs": [
        {
          "output_type": "stream",
          "name": "stdout",
          "text": [
            "Solução (x, y, z): [ 1.  2. -3.]\n"
          ]
        }
      ]
    }
  ]
}